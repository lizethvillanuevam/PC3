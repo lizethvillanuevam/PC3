{
 "cells": [
  {
   "cell_type": "code",
   "execution_count": 2,
   "id": "804a8575",
   "metadata": {},
   "outputs": [
    {
     "name": "stdout",
     "output_type": "stream",
     "text": [
      "Ingrese el numero\n",
      "3\n",
      "el factorial de 3 es 6\n"
     ]
    }
   ],
   "source": [
    "print(\"Ingrese el numero\")\n",
    "num=int(input())\n",
    "fact=1\n",
    "for i in range(1, num+1):\n",
    "    fact*=i\n",
    "print(\"el factorial de\" ,num, \"es\",fact)"
   ]
  },
  {
   "cell_type": "code",
   "execution_count": 1,
   "id": "0bc222bd",
   "metadata": {},
   "outputs": [
    {
     "data": {
      "text/plain": [
       "6"
      ]
     },
     "execution_count": 1,
     "metadata": {},
     "output_type": "execute_result"
    }
   ],
   "source": [
    "# Cabios por jorge ignacio\n",
    "\n",
    "def factor(numero):\n",
    "    if numero == 1:\n",
    "        return 1\n",
    "    if numero == 0:\n",
    "        return 1\n",
    "    else:\n",
    "        return (numero*factor(numero-1))\n",
    "    \n",
    "factor(3)"
   ]
  },
  {
   "cell_type": "code",
   "execution_count": null,
   "id": "f76e8798",
   "metadata": {},
   "outputs": [],
   "source": []
  }
 ],
 "metadata": {
  "kernelspec": {
   "display_name": "Python 3 (ipykernel)",
   "language": "python",
   "name": "python3"
  },
  "language_info": {
   "codemirror_mode": {
    "name": "ipython",
    "version": 3
   },
   "file_extension": ".py",
   "mimetype": "text/x-python",
   "name": "python",
   "nbconvert_exporter": "python",
   "pygments_lexer": "ipython3",
   "version": "3.9.12"
  }
 },
 "nbformat": 4,
 "nbformat_minor": 5
}
